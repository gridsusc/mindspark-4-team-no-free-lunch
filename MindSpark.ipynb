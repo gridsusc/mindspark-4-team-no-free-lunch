{
 "cells": [
  {
   "cell_type": "markdown",
   "metadata": {},
   "source": [
    "# Imports"
   ]
  },
  {
   "cell_type": "code",
   "execution_count": 16,
   "metadata": {},
   "outputs": [],
   "source": [
    "import os\n",
    "import zipfile\n",
    "import shutil"
   ]
  },
  {
   "cell_type": "markdown",
   "metadata": {},
   "source": [
    "# CSV Extraction"
   ]
  },
  {
   "cell_type": "code",
   "execution_count": 20,
   "metadata": {},
   "outputs": [],
   "source": [
    "dir_name = 'Raw Zip'\n",
    "extension = \".zip\"\n",
    "\n",
    "# Unzip\n",
    "for item in os.listdir(dir_name): # loop through items in dir\n",
    "    if item.endswith(extension): # check for \".zip\" extension\n",
    "        file_name = os.path.join(dir_name, item)\n",
    "        zip_ref = zipfile.ZipFile(file_name) # create zipfile object\n",
    "        zip_ref.extractall(dir_name) # extract file to dir\n",
    "        zip_ref.close() # close file\n",
    "\n",
    "#Move to other folder\n",
    "source_folder = \"Raw Zip\"\n",
    "dest_folder = \"Raw CSV Files\"\n",
    "for item in os.listdir(source_folder): \n",
    "    if(item.startswith(\"API\") and item.endswith(\"csv\")): \n",
    "        file_name = os.path.join(source_folder, item)\n",
    "        shutil.move(file_name, os.path.join(dest_folder, item))\n",
    "        \n",
    "# Cleaning csv from zip folder\n",
    "for item in os.listdir(dir_name):\n",
    "    if item.endswith(\"csv\"):\n",
    "        file_name = os.path.join(dir_name, item)\n",
    "        os.remove(file_name)"
   ]
  },
  {
   "cell_type": "code",
   "execution_count": null,
   "metadata": {},
   "outputs": [],
   "source": []
  }
 ],
 "metadata": {
  "kernelspec": {
   "display_name": "Python 3",
   "language": "python",
   "name": "python3"
  },
  "language_info": {
   "codemirror_mode": {
    "name": "ipython",
    "version": 3
   },
   "file_extension": ".py",
   "mimetype": "text/x-python",
   "name": "python",
   "nbconvert_exporter": "python",
   "pygments_lexer": "ipython3",
   "version": "3.8.5"
  }
 },
 "nbformat": 4,
 "nbformat_minor": 4
}
